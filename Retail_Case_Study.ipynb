{
  "cells": [
    {
      "cell_type": "markdown",
      "metadata": {
        "id": "view-in-github",
        "colab_type": "text"
      },
      "source": [
        "<a href=\"https://colab.research.google.com/github/udyanojha/EDA_Flipkart_phones/blob/main/Retail_Case_Study.ipynb\" target=\"_parent\"><img src=\"https://colab.research.google.com/assets/colab-badge.svg\" alt=\"Open In Colab\"/></a>"
      ]
    },
    {
      "cell_type": "markdown",
      "metadata": {
        "id": "jRShWeGzQPa-"
      },
      "source": [
        "# Retail Case Study"
      ]
    },
    {
      "cell_type": "code",
      "execution_count": 1,
      "metadata": {
        "id": "C79uvNrHQPbH"
      },
      "outputs": [],
      "source": [
        "import pandas as pd\n",
        "import numpy as np"
      ]
    },
    {
      "cell_type": "code",
      "execution_count": null,
      "metadata": {
        "id": "z4ieWnKhQPbJ"
      },
      "outputs": [],
      "source": [
        "customer=pd.read_csv('Customer.csv')\n",
        "customer"
      ]
    },
    {
      "cell_type": "code",
      "execution_count": null,
      "metadata": {
        "id": "FfeHx5ZHQPbK"
      },
      "outputs": [],
      "source": [
        "product=pd.read_csv('prod_cat_info.csv')\n",
        "product.head()"
      ]
    },
    {
      "cell_type": "code",
      "execution_count": null,
      "metadata": {
        "id": "yKnIxWBcQPbM"
      },
      "outputs": [],
      "source": [
        "transaction=pd.read_csv('Transactions.csv')\n",
        "transaction.head()"
      ]
    },
    {
      "cell_type": "code",
      "execution_count": 5,
      "metadata": {
        "id": "qPoDoMwUQPbN"
      },
      "outputs": [],
      "source": [
        "customer_trans=pd.merge(left=customer,right=transaction,left_on='customer_Id',right_on='cust_id',how='inner')"
      ]
    },
    {
      "cell_type": "code",
      "execution_count": null,
      "metadata": {
        "id": "HNTZMKBaQPbO"
      },
      "outputs": [],
      "source": [
        "customer_trans.head()"
      ]
    },
    {
      "cell_type": "code",
      "execution_count": 7,
      "metadata": {
        "id": "c5uToLtlQPbP"
      },
      "outputs": [],
      "source": [
        "customer_final=pd.merge(left=customer_trans,right=product,left_on='prod_cat_code',right_on='prod_cat_code',how='inner')"
      ]
    },
    {
      "cell_type": "code",
      "execution_count": null,
      "metadata": {
        "id": "0y7RZQItQPbQ"
      },
      "outputs": [],
      "source": [
        "customer_final"
      ]
    },
    {
      "cell_type": "code",
      "execution_count": null,
      "metadata": {
        "id": "y0JXDpi4QPbR"
      },
      "outputs": [],
      "source": [
        "customer_final.dtypes"
      ]
    },
    {
      "cell_type": "code",
      "execution_count": null,
      "metadata": {
        "id": "6rSu0gpAQPbS"
      },
      "outputs": [],
      "source": [
        "customer_final['prod_subcat_code'].nunique()"
      ]
    },
    {
      "cell_type": "code",
      "execution_count": null,
      "metadata": {
        "id": "v900mwVXQPbS"
      },
      "outputs": [],
      "source": [
        "customer_final.select_dtypes('object').describe()"
      ]
    },
    {
      "cell_type": "code",
      "execution_count": null,
      "metadata": {
        "id": "HmTq17DbQPbT"
      },
      "outputs": [],
      "source": [
        "#storetype\n",
        "freq_table=pd.crosstab(index=customer_final['Gender'],columns=customer_final['Store_type'])\n",
        "\n",
        "freq_table.columns=['Flagship store','MBR','TeleShop','e-Shop']\n",
        "freq_table.index=['Male','Female']\n",
        "freq_table\n"
      ]
    },
    {
      "cell_type": "code",
      "execution_count": null,
      "metadata": {
        "id": "RD7ck7LMQPbV"
      },
      "outputs": [],
      "source": [
        "#product_cat\n",
        "#storetype\n",
        "freq_table=pd.crosstab(index=customer_final['Gender'],columns=customer_final['prod_cat'])\n",
        "\n",
        "#freq_table.columns=['Flagship store','MBR','TeleShop','e-Shop']\n",
        "freq_table.index=['Male','Female']\n",
        "freq_table\n"
      ]
    },
    {
      "cell_type": "code",
      "execution_count": 12,
      "metadata": {
        "id": "8hK4UGcwQPbW"
      },
      "outputs": [],
      "source": [
        "import matplotlib.pyplot as plt\n",
        "%matplotlib inline"
      ]
    },
    {
      "cell_type": "code",
      "execution_count": null,
      "metadata": {
        "id": "meVLiPIEQPbX"
      },
      "outputs": [],
      "source": [
        "customer_final['prod_subcat'].value_counts().plot(kind='bar')"
      ]
    },
    {
      "cell_type": "code",
      "execution_count": null,
      "metadata": {
        "id": "k8ARooFNQPbY"
      },
      "outputs": [],
      "source": [
        "#Count of transactions where the total amount of transaction was negative\n",
        "\n",
        "df=customer_final['total_amt']\n",
        "customer_final.loc[(df<0),['total_amt']].count()"
      ]
    },
    {
      "cell_type": "code",
      "execution_count": null,
      "metadata": {
        "id": "7BRiraz_QPbZ"
      },
      "outputs": [],
      "source": [
        "#Analyze which product categories are more popular among females vs male customers.\n",
        "Male=customer_final.loc[customer_final['Gender']=='M']\n",
        "group_prod=Male.groupby(['prod_cat'])['total_amt'].sum()\n",
        "# group_prod.nlargest(1)\n",
        "group_prod"
      ]
    },
    {
      "cell_type": "code",
      "execution_count": null,
      "metadata": {
        "id": "-0XsHiHgQPba"
      },
      "outputs": [],
      "source": [
        "#Which City code has the maximum customers and what was the percentage of customers from that city?\n",
        "max_cust=customer['city_code'].value_counts().nlargest(1)\n",
        "\n",
        "round(max_cust/customer['customer_Id'].count()*100,2)"
      ]
    },
    {
      "cell_type": "code",
      "execution_count": null,
      "metadata": {
        "id": "L6hmgWpaQPbb"
      },
      "outputs": [],
      "source": [
        "customer['city_code'].value_counts()"
      ]
    },
    {
      "cell_type": "code",
      "execution_count": null,
      "metadata": {
        "id": "-1TODTD-QPbb"
      },
      "outputs": [],
      "source": [
        "#Which store type sells the maximum products by value and by quantity?\n",
        "customer_final.sort_values(['total_amt','Qty'],ascending=False).head(2)['Store_type']"
      ]
    },
    {
      "cell_type": "code",
      "execution_count": null,
      "metadata": {
        "id": "6B_guWYoQPbc"
      },
      "outputs": [],
      "source": [
        "#What was the total amount earned from the \"Electronics\" and \"Clothing\"categories from Flagship Stores?\n",
        "tf=customer_final[customer_final.prod_cat.isin(['Electronics','Clothing'])\n",
        "&(customer_final.Store_type=='Flagship store')]\n",
        "tf.total_amt.sum()"
      ]
    },
    {
      "cell_type": "code",
      "execution_count": null,
      "metadata": {
        "id": "eu-GnKsAQPbd"
      },
      "outputs": [],
      "source": [
        "#What was the total amount earned from \"Male\" customers under the \"Electronics\" category?\n",
        "customer_final[(customer_final.Gender=='M')& \n",
        "               (customer_final.prod_cat=='Electronics')].total_amt.sum()"
      ]
    },
    {
      "cell_type": "code",
      "execution_count": 24,
      "metadata": {
        "colab": {
          "base_uri": "https://localhost:8080/"
        },
        "id": "_PTxj5t3QPbd",
        "outputId": "c0a6e18a-b4ba-4637-bf9a-0f4fe1d8d7c8"
      },
      "outputs": [
        {
          "output_type": "execute_result",
          "data": {
            "text/plain": [
              "20876"
            ]
          },
          "metadata": {},
          "execution_count": 24
        }
      ],
      "source": [
        "#10. How many customers have more than 10 unique transactions, after removing all transactions which have any negative amounts?\n",
        "df1=customer_final[(customer_final.total_amt>0)]\n",
        "df1.transaction_id.nunique()\n"
      ]
    },
    {
      "cell_type": "code",
      "execution_count": 25,
      "metadata": {
        "id": "Dhxc7edYQPbe"
      },
      "outputs": [],
      "source": [
        "curr_year=pd.to_datetime('today').year\n",
        "dob_year=pd.DatetimeIndex(customer_final['DOB']).year"
      ]
    },
    {
      "cell_type": "code",
      "execution_count": 26,
      "metadata": {
        "id": "uGUK4g88QPbe"
      },
      "outputs": [],
      "source": [
        "x=dob_year-100\n",
        "v=curr_year-x"
      ]
    },
    {
      "cell_type": "code",
      "execution_count": null,
      "metadata": {
        "id": "cdKDZ2gPQPbe"
      },
      "outputs": [],
      "source": [
        "v"
      ]
    },
    {
      "cell_type": "code",
      "execution_count": null,
      "metadata": {
        "id": "-UmBKq3FQPbf"
      },
      "outputs": [],
      "source": [
        "pd.to_datetime(customer_final['DOB'])"
      ]
    }
  ],
  "metadata": {
    "kernelspec": {
      "display_name": "Python 3",
      "language": "python",
      "name": "python3"
    },
    "language_info": {
      "codemirror_mode": {
        "name": "ipython",
        "version": 3
      },
      "file_extension": ".py",
      "mimetype": "text/x-python",
      "name": "python",
      "nbconvert_exporter": "python",
      "pygments_lexer": "ipython3",
      "version": "3.7.3"
    },
    "colab": {
      "name": "Retail Case Study.ipynb",
      "provenance": [],
      "include_colab_link": true
    }
  },
  "nbformat": 4,
  "nbformat_minor": 0
}